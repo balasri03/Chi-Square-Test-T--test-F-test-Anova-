{
  "nbformat": 4,
  "nbformat_minor": 0,
  "metadata": {
    "colab": {
      "provenance": [],
      "authorship_tag": "ABX9TyNN70/H162YZ3ceFVHjUc/h",
      "include_colab_link": true
    },
    "kernelspec": {
      "name": "python3",
      "display_name": "Python 3"
    },
    "language_info": {
      "name": "python"
    }
  },
  "cells": [
    {
      "cell_type": "markdown",
      "metadata": {
        "id": "view-in-github",
        "colab_type": "text"
      },
      "source": [
        "<a href=\"https://colab.research.google.com/github/balasri03/Chi-Square-Test-T--test-F-test-Anova-/blob/main/T_test%2CF_test(Anova).ipynb\" target=\"_parent\"><img src=\"https://colab.research.google.com/assets/colab-badge.svg\" alt=\"Open In Colab\"/></a>"
      ]
    },
    {
      "cell_type": "markdown",
      "source": [
        "# **Chi-Square Test**"
      ],
      "metadata": {
        "id": "PTDC1VolyduW"
      }
    },
    {
      "cell_type": "code",
      "execution_count": null,
      "metadata": {
        "colab": {
          "base_uri": "https://localhost:8080/"
        },
        "id": "u-cyDq09yw7A",
        "outputId": "11f0c402-2c91-4537-abff-090a02425dcd"
      },
      "outputs": [
        {
          "output_type": "stream",
          "name": "stdout",
          "text": [
            "   total_bill   tip     sex smoker  day    time  size\n",
            "0       16.99  1.01  Female     No  Sun  Dinner     2\n",
            "1       10.34  1.66    Male     No  Sun  Dinner     3\n",
            "2       21.01  3.50    Male     No  Sun  Dinner     3\n",
            "3       23.68  3.31    Male     No  Sun  Dinner     2\n",
            "4       24.59  3.61  Female     No  Sun  Dinner     4\n"
          ]
        }
      ],
      "source": [
        "import numpy as np\n",
        "import seaborn as sns\n",
        "import scipy.stats as stats\n",
        "import pandas as pd\n",
        "data_set=sns.load_dataset('tips')\n",
        "print(data_set.head())"
      ]
    },
    {
      "cell_type": "code",
      "source": [
        "dataset_table=pd.crosstab(data_set['sex'],data_set['smoker'])\n",
        "print(dataset_table)"
      ],
      "metadata": {
        "colab": {
          "base_uri": "https://localhost:8080/"
        },
        "id": "f2e7_EUwzeEd",
        "outputId": "b96533d4-e55d-4568-9049-898a206cfcf7"
      },
      "execution_count": null,
      "outputs": [
        {
          "output_type": "stream",
          "name": "stdout",
          "text": [
            "smoker  Yes  No\n",
            "sex            \n",
            "Male     60  97\n",
            "Female   33  54\n"
          ]
        }
      ]
    },
    {
      "cell_type": "code",
      "source": [
        "observe_values=dataset_table.values\n",
        "print(observe_values)"
      ],
      "metadata": {
        "colab": {
          "base_uri": "https://localhost:8080/"
        },
        "id": "qtkAUxkazvzf",
        "outputId": "f39923f7-9160-43c1-8cf4-ac7de90cb1ed"
      },
      "execution_count": null,
      "outputs": [
        {
          "output_type": "stream",
          "name": "stdout",
          "text": [
            "[[60 97]\n",
            " [33 54]]\n"
          ]
        }
      ]
    },
    {
      "cell_type": "code",
      "source": [
        "value=stats.chi2_contingency(dataset_table)\n",
        "print(value)"
      ],
      "metadata": {
        "colab": {
          "base_uri": "https://localhost:8080/"
        },
        "id": "xkTiAZZK0CYc",
        "outputId": "1a7a9a76-c88d-4b0e-e0eb-a43ffca52426"
      },
      "execution_count": null,
      "outputs": [
        {
          "output_type": "stream",
          "name": "stdout",
          "text": [
            "Chi2ContingencyResult(statistic=np.float64(0.0), pvalue=np.float64(1.0), dof=1, expected_freq=array([[59.84016393, 97.15983607],\n",
            "       [33.15983607, 53.84016393]]))\n"
          ]
        }
      ]
    },
    {
      "cell_type": "code",
      "source": [
        "expected_value=value[3]"
      ],
      "metadata": {
        "id": "-jwJC4pU0rzr"
      },
      "execution_count": null,
      "outputs": []
    },
    {
      "cell_type": "code",
      "source": [
        "no_rows=len(dataset_table.iloc[0:2,0])\n",
        "no_columns=len(dataset_table.iloc[0,0:2])\n",
        "dof=(no_rows-1)*(no_columns-1)\n",
        "print(dof)\n",
        "alpha=00.5"
      ],
      "metadata": {
        "colab": {
          "base_uri": "https://localhost:8080/"
        },
        "id": "FnpeiCM80yJE",
        "outputId": "4cc7222d-e471-49e9-fb49-b2fef02b4281"
      },
      "execution_count": null,
      "outputs": [
        {
          "output_type": "stream",
          "name": "stdout",
          "text": [
            "1\n"
          ]
        }
      ]
    },
    {
      "cell_type": "code",
      "source": [
        "from scipy.stats import chi2\n",
        "chi_square=sum([(o-e)**2./e for o,e in zip(observe_values,expected_value)])\n",
        "print(chi_square)"
      ],
      "metadata": {
        "colab": {
          "base_uri": "https://localhost:8080/"
        },
        "id": "CNVmy2tL1Vjy",
        "outputId": "21db0718-ab03-477f-c2fc-e8d6b963b855"
      },
      "execution_count": null,
      "outputs": [
        {
          "output_type": "stream",
          "name": "stdout",
          "text": [
            "[0.00119737 0.00073745]\n"
          ]
        }
      ]
    },
    {
      "cell_type": "code",
      "source": [
        "chi_square_stats=chi_square[0]+chi_square[1]\n",
        "print(chi_square_stats)"
      ],
      "metadata": {
        "colab": {
          "base_uri": "https://localhost:8080/"
        },
        "id": "DFJuv8mo2OwT",
        "outputId": "24331531-2bec-4c38-af6f-c6f8e9478cc7"
      },
      "execution_count": null,
      "outputs": [
        {
          "output_type": "stream",
          "name": "stdout",
          "text": [
            "0.001934818536627623\n"
          ]
        }
      ]
    },
    {
      "cell_type": "code",
      "source": [
        "alpha=0.05\n",
        "critical_value=chi2.ppf(q=1-alpha,df=dof)\n",
        "print('critical_value:',critical_value)\n"
      ],
      "metadata": {
        "colab": {
          "base_uri": "https://localhost:8080/"
        },
        "id": "KKx7yu-D2lzQ",
        "outputId": "1bc11350-5fd2-41f3-fed6-3909f4df2d3b"
      },
      "execution_count": null,
      "outputs": [
        {
          "output_type": "stream",
          "name": "stdout",
          "text": [
            "critical_value: 3.841458820694124\n"
          ]
        }
      ]
    },
    {
      "cell_type": "code",
      "source": [
        "p_value=1-chi2.cdf(x=chi_square_stats,df=dof)\n",
        "print(\"p_value\",p_value)\n",
        "print(\"sgnificant value\",alpha)\n",
        "print(\"dof\",dof)"
      ],
      "metadata": {
        "colab": {
          "base_uri": "https://localhost:8080/"
        },
        "id": "qgxVr3973EnP",
        "outputId": "07a4bbc2-6198-430e-9421-2669b152223e"
      },
      "execution_count": null,
      "outputs": [
        {
          "output_type": "stream",
          "name": "stdout",
          "text": [
            "p_value 0.964915107315732\n",
            "sgnificant value 0.05\n",
            "dof 1\n"
          ]
        }
      ]
    },
    {
      "cell_type": "code",
      "source": [
        "if chi_square_stats>=critical_value:\n",
        "  print(\"regect H0 , their is relation b/w two catagorical variables\")\n",
        "else:\n",
        "  print(\"accept H0,There is no relationship between 2 categorical variables\")\n",
        "if p_value<=alpha:\n",
        "    print(\"Reject H0,There is a relationship between 2 categorical variables\")\n",
        "else:\n",
        "    print(\"accept H0,There is no relationship between 2 categorical variables\")\n"
      ],
      "metadata": {
        "colab": {
          "base_uri": "https://localhost:8080/"
        },
        "id": "j37V_Yro4QZ9",
        "outputId": "1891381b-05e5-4f3a-a04c-d2067e16b06f"
      },
      "execution_count": null,
      "outputs": [
        {
          "output_type": "stream",
          "name": "stdout",
          "text": [
            "accept H0,There is no relationship between 2 categorical variables\n",
            "accept H0,There is no relationship between 2 categorical variables\n"
          ]
        }
      ]
    },
    {
      "cell_type": "markdown",
      "source": [
        "# **One sample T-test**"
      ],
      "metadata": {
        "id": "I9mHnHTy6CZ_"
      }
    },
    {
      "cell_type": "code",
      "source": [
        "import numpy as np\n",
        "import pandas as pd\n",
        "import scipy.stats as stats\n",
        "import math\n",
        "np.random.seed(6)\n",
        "school_age=stats.poisson.rvs(loc=18,mu=35,size=1500)\n",
        "classA_age=stats.poisson.rvs(loc=18,mu=30,size=60)\n",
        "print(classA_age.mean())"
      ],
      "metadata": {
        "colab": {
          "base_uri": "https://localhost:8080/"
        },
        "id": "3hOe5Ldz6HS-",
        "outputId": "4dd71e56-6863-4442-dbdc-f36f73f31cb9"
      },
      "execution_count": null,
      "outputs": [
        {
          "output_type": "stream",
          "name": "stdout",
          "text": [
            "46.9\n"
          ]
        }
      ]
    },
    {
      "cell_type": "code",
      "source": [
        "p_value=stats.ttest_1samp(a=classA_age,popmean=school_age.mean())\n",
        "print(p_value)\n",
        "print(p_value[1])"
      ],
      "metadata": {
        "colab": {
          "base_uri": "https://localhost:8080/"
        },
        "id": "dWQe2Nx06-Oo",
        "outputId": "097884d1-ac99-43f8-d41b-effb050424eb"
      },
      "execution_count": null,
      "outputs": [
        {
          "output_type": "stream",
          "name": "stdout",
          "text": [
            "TtestResult(statistic=np.float64(-9.604796510704091), pvalue=np.float64(1.139027071016194e-13), df=np.int64(59))\n",
            "1.139027071016194e-13\n"
          ]
        }
      ]
    },
    {
      "cell_type": "code",
      "source": [
        "if p_value[1]<0.05:\n",
        "  print(\"we reject null hypothesis\")\n",
        "else:\n",
        "  print(\"we accept null hypothesis\")"
      ],
      "metadata": {
        "colab": {
          "base_uri": "https://localhost:8080/"
        },
        "id": "nRKefKVc7jbX",
        "outputId": "616e045a-b0e0-4cc0-c30b-a3f5b2e3ea70"
      },
      "execution_count": null,
      "outputs": [
        {
          "output_type": "stream",
          "name": "stdout",
          "text": [
            "we reject null hypothesis\n"
          ]
        }
      ]
    },
    {
      "cell_type": "markdown",
      "source": [
        "# **Two sample t-test**"
      ],
      "metadata": {
        "id": "hJ1uyJ3k8A85"
      }
    },
    {
      "cell_type": "code",
      "source": [
        "np.random.seed(10)\n",
        "classB_age=stats.poisson.rvs(loc=18,mu=33,size=100)\n",
        "print(classB_age.mean())"
      ],
      "metadata": {
        "colab": {
          "base_uri": "https://localhost:8080/"
        },
        "id": "bMkb8_Hb7_kK",
        "outputId": "8cf9b359-7df2-4d78-ae6b-3cd7556dd2d9"
      },
      "execution_count": null,
      "outputs": [
        {
          "output_type": "stream",
          "name": "stdout",
          "text": [
            "50.34\n"
          ]
        }
      ]
    },
    {
      "cell_type": "code",
      "source": [
        "p_value=stats.ttest_ind(a=classA_age,b=classB_age,equal_var=False)\n",
        "print(p_value[1])"
      ],
      "metadata": {
        "colab": {
          "base_uri": "https://localhost:8080/"
        },
        "id": "e6qY-bNK8iH2",
        "outputId": "c294e313-761f-49ae-e3e4-e974ce7c9d28"
      },
      "execution_count": null,
      "outputs": [
        {
          "output_type": "stream",
          "name": "stdout",
          "text": [
            "8.88410425537225e-05\n"
          ]
        }
      ]
    },
    {
      "cell_type": "code",
      "source": [
        "if p_value[1] < 0.05:    # alpha value is 0.05 or 5%\n",
        "    print(\" we are rejecting null hypothesis\")\n",
        "else:\n",
        "    print(\"we are accepting null hypothesis\")"
      ],
      "metadata": {
        "colab": {
          "base_uri": "https://localhost:8080/"
        },
        "id": "3KGZaB9o89xh",
        "outputId": "f3fd014a-6413-41ca-eef2-bfcf3b4515c0"
      },
      "execution_count": null,
      "outputs": [
        {
          "output_type": "stream",
          "name": "stdout",
          "text": [
            " we are rejecting null hypothesis\n"
          ]
        }
      ]
    },
    {
      "cell_type": "markdown",
      "source": [
        "# **Paired T-test**"
      ],
      "metadata": {
        "id": "vzvAwlrKnfAh"
      }
    },
    {
      "cell_type": "code",
      "source": [
        "import scipy.stats as stats\n",
        "weight1=[25,30,28,35,28,34,26,29,30,26,28,32,31,30,45]\n",
        "weight2=weight1+stats.norm.rvs(scale=5,loc=-1.25,size=15)\n",
        "print(weight1)\n",
        "print(weight2)"
      ],
      "metadata": {
        "id": "g8nY6lji9GoT",
        "colab": {
          "base_uri": "https://localhost:8080/"
        },
        "outputId": "649f91b3-095c-4d1e-83a5-cc8b173a416e"
      },
      "execution_count": null,
      "outputs": [
        {
          "output_type": "stream",
          "name": "stdout",
          "text": [
            "[25, 30, 28, 35, 28, 34, 26, 29, 30, 26, 28, 32, 31, 30, 45]\n",
            "[24.97029643 33.61601165 25.62808293 40.04304552 28.38129464 31.59775264\n",
            " 30.00428241 25.90239124 25.66734331 29.46356599 30.36671193 40.277408\n",
            " 27.13972462 25.34259224 43.9812259 ]\n"
          ]
        }
      ]
    },
    {
      "cell_type": "code",
      "source": [
        "\n",
        "_,p_value=stats.ttest_rel(a=weight1,b=weight2)\n",
        "print(p_value)"
      ],
      "metadata": {
        "colab": {
          "base_uri": "https://localhost:8080/"
        },
        "id": "WA9WdYgao69X",
        "outputId": "1df10da9-6d35-4f72-ca46-673070f561dd"
      },
      "execution_count": null,
      "outputs": [
        {
          "output_type": "stream",
          "name": "stdout",
          "text": [
            "0.7289461407386044\n"
          ]
        }
      ]
    },
    {
      "cell_type": "code",
      "source": [
        "if p_value < 0.05:\n",
        "    print(\" we are rejecting null hypothesis\")\n",
        "else:\n",
        "    print(\"we are accepting null hypothesis\")"
      ],
      "metadata": {
        "colab": {
          "base_uri": "https://localhost:8080/"
        },
        "id": "hGuA0frKpA73",
        "outputId": "ebac0f91-902f-4dbd-901c-d2d8a159c32c"
      },
      "execution_count": null,
      "outputs": [
        {
          "output_type": "stream",
          "name": "stdout",
          "text": [
            "we are accepting null hypothesis\n"
          ]
        }
      ]
    },
    {
      "cell_type": "markdown",
      "source": [
        "# **F Test -Anova**"
      ],
      "metadata": {
        "id": "JGJC825lrWUH"
      }
    },
    {
      "cell_type": "code",
      "source": [
        "import seaborn as sns\n",
        "df1=sns.load_dataset('iris')\n",
        "df1.head()"
      ],
      "metadata": {
        "colab": {
          "base_uri": "https://localhost:8080/",
          "height": 206
        },
        "id": "uBMWL6jqrV2c",
        "outputId": "3fe36172-a3c9-45d5-df0a-23c2e678d38e"
      },
      "execution_count": null,
      "outputs": [
        {
          "output_type": "execute_result",
          "data": {
            "text/plain": [
              "   sepal_length  sepal_width  petal_length  petal_width species\n",
              "0           5.1          3.5           1.4          0.2  setosa\n",
              "1           4.9          3.0           1.4          0.2  setosa\n",
              "2           4.7          3.2           1.3          0.2  setosa\n",
              "3           4.6          3.1           1.5          0.2  setosa\n",
              "4           5.0          3.6           1.4          0.2  setosa"
            ],
            "text/html": [
              "\n",
              "  <div id=\"df-5b555f8f-ee4b-4ee6-919a-d167e90027e4\" class=\"colab-df-container\">\n",
              "    <div>\n",
              "<style scoped>\n",
              "    .dataframe tbody tr th:only-of-type {\n",
              "        vertical-align: middle;\n",
              "    }\n",
              "\n",
              "    .dataframe tbody tr th {\n",
              "        vertical-align: top;\n",
              "    }\n",
              "\n",
              "    .dataframe thead th {\n",
              "        text-align: right;\n",
              "    }\n",
              "</style>\n",
              "<table border=\"1\" class=\"dataframe\">\n",
              "  <thead>\n",
              "    <tr style=\"text-align: right;\">\n",
              "      <th></th>\n",
              "      <th>sepal_length</th>\n",
              "      <th>sepal_width</th>\n",
              "      <th>petal_length</th>\n",
              "      <th>petal_width</th>\n",
              "      <th>species</th>\n",
              "    </tr>\n",
              "  </thead>\n",
              "  <tbody>\n",
              "    <tr>\n",
              "      <th>0</th>\n",
              "      <td>5.1</td>\n",
              "      <td>3.5</td>\n",
              "      <td>1.4</td>\n",
              "      <td>0.2</td>\n",
              "      <td>setosa</td>\n",
              "    </tr>\n",
              "    <tr>\n",
              "      <th>1</th>\n",
              "      <td>4.9</td>\n",
              "      <td>3.0</td>\n",
              "      <td>1.4</td>\n",
              "      <td>0.2</td>\n",
              "      <td>setosa</td>\n",
              "    </tr>\n",
              "    <tr>\n",
              "      <th>2</th>\n",
              "      <td>4.7</td>\n",
              "      <td>3.2</td>\n",
              "      <td>1.3</td>\n",
              "      <td>0.2</td>\n",
              "      <td>setosa</td>\n",
              "    </tr>\n",
              "    <tr>\n",
              "      <th>3</th>\n",
              "      <td>4.6</td>\n",
              "      <td>3.1</td>\n",
              "      <td>1.5</td>\n",
              "      <td>0.2</td>\n",
              "      <td>setosa</td>\n",
              "    </tr>\n",
              "    <tr>\n",
              "      <th>4</th>\n",
              "      <td>5.0</td>\n",
              "      <td>3.6</td>\n",
              "      <td>1.4</td>\n",
              "      <td>0.2</td>\n",
              "      <td>setosa</td>\n",
              "    </tr>\n",
              "  </tbody>\n",
              "</table>\n",
              "</div>\n",
              "    <div class=\"colab-df-buttons\">\n",
              "\n",
              "  <div class=\"colab-df-container\">\n",
              "    <button class=\"colab-df-convert\" onclick=\"convertToInteractive('df-5b555f8f-ee4b-4ee6-919a-d167e90027e4')\"\n",
              "            title=\"Convert this dataframe to an interactive table.\"\n",
              "            style=\"display:none;\">\n",
              "\n",
              "  <svg xmlns=\"http://www.w3.org/2000/svg\" height=\"24px\" viewBox=\"0 -960 960 960\">\n",
              "    <path d=\"M120-120v-720h720v720H120Zm60-500h600v-160H180v160Zm220 220h160v-160H400v160Zm0 220h160v-160H400v160ZM180-400h160v-160H180v160Zm440 0h160v-160H620v160ZM180-180h160v-160H180v160Zm440 0h160v-160H620v160Z\"/>\n",
              "  </svg>\n",
              "    </button>\n",
              "\n",
              "  <style>\n",
              "    .colab-df-container {\n",
              "      display:flex;\n",
              "      gap: 12px;\n",
              "    }\n",
              "\n",
              "    .colab-df-convert {\n",
              "      background-color: #E8F0FE;\n",
              "      border: none;\n",
              "      border-radius: 50%;\n",
              "      cursor: pointer;\n",
              "      display: none;\n",
              "      fill: #1967D2;\n",
              "      height: 32px;\n",
              "      padding: 0 0 0 0;\n",
              "      width: 32px;\n",
              "    }\n",
              "\n",
              "    .colab-df-convert:hover {\n",
              "      background-color: #E2EBFA;\n",
              "      box-shadow: 0px 1px 2px rgba(60, 64, 67, 0.3), 0px 1px 3px 1px rgba(60, 64, 67, 0.15);\n",
              "      fill: #174EA6;\n",
              "    }\n",
              "\n",
              "    .colab-df-buttons div {\n",
              "      margin-bottom: 4px;\n",
              "    }\n",
              "\n",
              "    [theme=dark] .colab-df-convert {\n",
              "      background-color: #3B4455;\n",
              "      fill: #D2E3FC;\n",
              "    }\n",
              "\n",
              "    [theme=dark] .colab-df-convert:hover {\n",
              "      background-color: #434B5C;\n",
              "      box-shadow: 0px 1px 3px 1px rgba(0, 0, 0, 0.15);\n",
              "      filter: drop-shadow(0px 1px 2px rgba(0, 0, 0, 0.3));\n",
              "      fill: #FFFFFF;\n",
              "    }\n",
              "  </style>\n",
              "\n",
              "    <script>\n",
              "      const buttonEl =\n",
              "        document.querySelector('#df-5b555f8f-ee4b-4ee6-919a-d167e90027e4 button.colab-df-convert');\n",
              "      buttonEl.style.display =\n",
              "        google.colab.kernel.accessAllowed ? 'block' : 'none';\n",
              "\n",
              "      async function convertToInteractive(key) {\n",
              "        const element = document.querySelector('#df-5b555f8f-ee4b-4ee6-919a-d167e90027e4');\n",
              "        const dataTable =\n",
              "          await google.colab.kernel.invokeFunction('convertToInteractive',\n",
              "                                                    [key], {});\n",
              "        if (!dataTable) return;\n",
              "\n",
              "        const docLinkHtml = 'Like what you see? Visit the ' +\n",
              "          '<a target=\"_blank\" href=https://colab.research.google.com/notebooks/data_table.ipynb>data table notebook</a>'\n",
              "          + ' to learn more about interactive tables.';\n",
              "        element.innerHTML = '';\n",
              "        dataTable['output_type'] = 'display_data';\n",
              "        await google.colab.output.renderOutput(dataTable, element);\n",
              "        const docLink = document.createElement('div');\n",
              "        docLink.innerHTML = docLinkHtml;\n",
              "        element.appendChild(docLink);\n",
              "      }\n",
              "    </script>\n",
              "  </div>\n",
              "\n",
              "\n",
              "<div id=\"df-336e0541-d39b-4050-a605-d1a263746523\">\n",
              "  <button class=\"colab-df-quickchart\" onclick=\"quickchart('df-336e0541-d39b-4050-a605-d1a263746523')\"\n",
              "            title=\"Suggest charts\"\n",
              "            style=\"display:none;\">\n",
              "\n",
              "<svg xmlns=\"http://www.w3.org/2000/svg\" height=\"24px\"viewBox=\"0 0 24 24\"\n",
              "     width=\"24px\">\n",
              "    <g>\n",
              "        <path d=\"M19 3H5c-1.1 0-2 .9-2 2v14c0 1.1.9 2 2 2h14c1.1 0 2-.9 2-2V5c0-1.1-.9-2-2-2zM9 17H7v-7h2v7zm4 0h-2V7h2v10zm4 0h-2v-4h2v4z\"/>\n",
              "    </g>\n",
              "</svg>\n",
              "  </button>\n",
              "\n",
              "<style>\n",
              "  .colab-df-quickchart {\n",
              "      --bg-color: #E8F0FE;\n",
              "      --fill-color: #1967D2;\n",
              "      --hover-bg-color: #E2EBFA;\n",
              "      --hover-fill-color: #174EA6;\n",
              "      --disabled-fill-color: #AAA;\n",
              "      --disabled-bg-color: #DDD;\n",
              "  }\n",
              "\n",
              "  [theme=dark] .colab-df-quickchart {\n",
              "      --bg-color: #3B4455;\n",
              "      --fill-color: #D2E3FC;\n",
              "      --hover-bg-color: #434B5C;\n",
              "      --hover-fill-color: #FFFFFF;\n",
              "      --disabled-bg-color: #3B4455;\n",
              "      --disabled-fill-color: #666;\n",
              "  }\n",
              "\n",
              "  .colab-df-quickchart {\n",
              "    background-color: var(--bg-color);\n",
              "    border: none;\n",
              "    border-radius: 50%;\n",
              "    cursor: pointer;\n",
              "    display: none;\n",
              "    fill: var(--fill-color);\n",
              "    height: 32px;\n",
              "    padding: 0;\n",
              "    width: 32px;\n",
              "  }\n",
              "\n",
              "  .colab-df-quickchart:hover {\n",
              "    background-color: var(--hover-bg-color);\n",
              "    box-shadow: 0 1px 2px rgba(60, 64, 67, 0.3), 0 1px 3px 1px rgba(60, 64, 67, 0.15);\n",
              "    fill: var(--button-hover-fill-color);\n",
              "  }\n",
              "\n",
              "  .colab-df-quickchart-complete:disabled,\n",
              "  .colab-df-quickchart-complete:disabled:hover {\n",
              "    background-color: var(--disabled-bg-color);\n",
              "    fill: var(--disabled-fill-color);\n",
              "    box-shadow: none;\n",
              "  }\n",
              "\n",
              "  .colab-df-spinner {\n",
              "    border: 2px solid var(--fill-color);\n",
              "    border-color: transparent;\n",
              "    border-bottom-color: var(--fill-color);\n",
              "    animation:\n",
              "      spin 1s steps(1) infinite;\n",
              "  }\n",
              "\n",
              "  @keyframes spin {\n",
              "    0% {\n",
              "      border-color: transparent;\n",
              "      border-bottom-color: var(--fill-color);\n",
              "      border-left-color: var(--fill-color);\n",
              "    }\n",
              "    20% {\n",
              "      border-color: transparent;\n",
              "      border-left-color: var(--fill-color);\n",
              "      border-top-color: var(--fill-color);\n",
              "    }\n",
              "    30% {\n",
              "      border-color: transparent;\n",
              "      border-left-color: var(--fill-color);\n",
              "      border-top-color: var(--fill-color);\n",
              "      border-right-color: var(--fill-color);\n",
              "    }\n",
              "    40% {\n",
              "      border-color: transparent;\n",
              "      border-right-color: var(--fill-color);\n",
              "      border-top-color: var(--fill-color);\n",
              "    }\n",
              "    60% {\n",
              "      border-color: transparent;\n",
              "      border-right-color: var(--fill-color);\n",
              "    }\n",
              "    80% {\n",
              "      border-color: transparent;\n",
              "      border-right-color: var(--fill-color);\n",
              "      border-bottom-color: var(--fill-color);\n",
              "    }\n",
              "    90% {\n",
              "      border-color: transparent;\n",
              "      border-bottom-color: var(--fill-color);\n",
              "    }\n",
              "  }\n",
              "</style>\n",
              "\n",
              "  <script>\n",
              "    async function quickchart(key) {\n",
              "      const quickchartButtonEl =\n",
              "        document.querySelector('#' + key + ' button');\n",
              "      quickchartButtonEl.disabled = true;  // To prevent multiple clicks.\n",
              "      quickchartButtonEl.classList.add('colab-df-spinner');\n",
              "      try {\n",
              "        const charts = await google.colab.kernel.invokeFunction(\n",
              "            'suggestCharts', [key], {});\n",
              "      } catch (error) {\n",
              "        console.error('Error during call to suggestCharts:', error);\n",
              "      }\n",
              "      quickchartButtonEl.classList.remove('colab-df-spinner');\n",
              "      quickchartButtonEl.classList.add('colab-df-quickchart-complete');\n",
              "    }\n",
              "    (() => {\n",
              "      let quickchartButtonEl =\n",
              "        document.querySelector('#df-336e0541-d39b-4050-a605-d1a263746523 button');\n",
              "      quickchartButtonEl.style.display =\n",
              "        google.colab.kernel.accessAllowed ? 'block' : 'none';\n",
              "    })();\n",
              "  </script>\n",
              "</div>\n",
              "\n",
              "    </div>\n",
              "  </div>\n"
            ],
            "application/vnd.google.colaboratory.intrinsic+json": {
              "type": "dataframe",
              "variable_name": "df1",
              "summary": "{\n  \"name\": \"df1\",\n  \"rows\": 150,\n  \"fields\": [\n    {\n      \"column\": \"sepal_length\",\n      \"properties\": {\n        \"dtype\": \"number\",\n        \"std\": 0.8280661279778629,\n        \"min\": 4.3,\n        \"max\": 7.9,\n        \"num_unique_values\": 35,\n        \"samples\": [\n          6.2,\n          4.5,\n          5.6\n        ],\n        \"semantic_type\": \"\",\n        \"description\": \"\"\n      }\n    },\n    {\n      \"column\": \"sepal_width\",\n      \"properties\": {\n        \"dtype\": \"number\",\n        \"std\": 0.435866284936698,\n        \"min\": 2.0,\n        \"max\": 4.4,\n        \"num_unique_values\": 23,\n        \"samples\": [\n          2.3,\n          4.0,\n          3.5\n        ],\n        \"semantic_type\": \"\",\n        \"description\": \"\"\n      }\n    },\n    {\n      \"column\": \"petal_length\",\n      \"properties\": {\n        \"dtype\": \"number\",\n        \"std\": 1.7652982332594667,\n        \"min\": 1.0,\n        \"max\": 6.9,\n        \"num_unique_values\": 43,\n        \"samples\": [\n          6.7,\n          3.8,\n          3.7\n        ],\n        \"semantic_type\": \"\",\n        \"description\": \"\"\n      }\n    },\n    {\n      \"column\": \"petal_width\",\n      \"properties\": {\n        \"dtype\": \"number\",\n        \"std\": 0.7622376689603465,\n        \"min\": 0.1,\n        \"max\": 2.5,\n        \"num_unique_values\": 22,\n        \"samples\": [\n          0.2,\n          1.2,\n          1.3\n        ],\n        \"semantic_type\": \"\",\n        \"description\": \"\"\n      }\n    },\n    {\n      \"column\": \"species\",\n      \"properties\": {\n        \"dtype\": \"category\",\n        \"num_unique_values\": 3,\n        \"samples\": [\n          \"setosa\",\n          \"versicolor\",\n          \"virginica\"\n        ],\n        \"semantic_type\": \"\",\n        \"description\": \"\"\n      }\n    }\n  ]\n}"
            }
          },
          "metadata": {},
          "execution_count": 8
        }
      ]
    },
    {
      "cell_type": "code",
      "source": [
        "import pandas as pd\n",
        "df_anova = df1[['petal_width','species']]\n",
        "grps = pd.unique(df_anova.species.values)\n",
        "print(grps)"
      ],
      "metadata": {
        "colab": {
          "base_uri": "https://localhost:8080/"
        },
        "id": "yCN59zmWrh_E",
        "outputId": "9bf6c1c3-590b-4928-b4f3-767f7a4dbfb2"
      },
      "execution_count": null,
      "outputs": [
        {
          "output_type": "stream",
          "name": "stdout",
          "text": [
            "['setosa' 'versicolor' 'virginica']\n"
          ]
        }
      ]
    },
    {
      "cell_type": "code",
      "source": [
        "d_data = {grp:df_anova['petal_width'][df_anova.species == grp] for grp in grps}\n",
        "print(d_data)"
      ],
      "metadata": {
        "colab": {
          "base_uri": "https://localhost:8080/"
        },
        "id": "htyGgIRprv6D",
        "outputId": "bb9f6edc-f3e5-4d48-8dc1-5b38357ad37b"
      },
      "execution_count": null,
      "outputs": [
        {
          "output_type": "stream",
          "name": "stdout",
          "text": [
            "{'setosa': 0     0.2\n",
            "1     0.2\n",
            "2     0.2\n",
            "3     0.2\n",
            "4     0.2\n",
            "5     0.4\n",
            "6     0.3\n",
            "7     0.2\n",
            "8     0.2\n",
            "9     0.1\n",
            "10    0.2\n",
            "11    0.2\n",
            "12    0.1\n",
            "13    0.1\n",
            "14    0.2\n",
            "15    0.4\n",
            "16    0.4\n",
            "17    0.3\n",
            "18    0.3\n",
            "19    0.3\n",
            "20    0.2\n",
            "21    0.4\n",
            "22    0.2\n",
            "23    0.5\n",
            "24    0.2\n",
            "25    0.2\n",
            "26    0.4\n",
            "27    0.2\n",
            "28    0.2\n",
            "29    0.2\n",
            "30    0.2\n",
            "31    0.4\n",
            "32    0.1\n",
            "33    0.2\n",
            "34    0.2\n",
            "35    0.2\n",
            "36    0.2\n",
            "37    0.1\n",
            "38    0.2\n",
            "39    0.2\n",
            "40    0.3\n",
            "41    0.3\n",
            "42    0.2\n",
            "43    0.6\n",
            "44    0.4\n",
            "45    0.3\n",
            "46    0.2\n",
            "47    0.2\n",
            "48    0.2\n",
            "49    0.2\n",
            "Name: petal_width, dtype: float64, 'versicolor': 50    1.4\n",
            "51    1.5\n",
            "52    1.5\n",
            "53    1.3\n",
            "54    1.5\n",
            "55    1.3\n",
            "56    1.6\n",
            "57    1.0\n",
            "58    1.3\n",
            "59    1.4\n",
            "60    1.0\n",
            "61    1.5\n",
            "62    1.0\n",
            "63    1.4\n",
            "64    1.3\n",
            "65    1.4\n",
            "66    1.5\n",
            "67    1.0\n",
            "68    1.5\n",
            "69    1.1\n",
            "70    1.8\n",
            "71    1.3\n",
            "72    1.5\n",
            "73    1.2\n",
            "74    1.3\n",
            "75    1.4\n",
            "76    1.4\n",
            "77    1.7\n",
            "78    1.5\n",
            "79    1.0\n",
            "80    1.1\n",
            "81    1.0\n",
            "82    1.2\n",
            "83    1.6\n",
            "84    1.5\n",
            "85    1.6\n",
            "86    1.5\n",
            "87    1.3\n",
            "88    1.3\n",
            "89    1.3\n",
            "90    1.2\n",
            "91    1.4\n",
            "92    1.2\n",
            "93    1.0\n",
            "94    1.3\n",
            "95    1.2\n",
            "96    1.3\n",
            "97    1.3\n",
            "98    1.1\n",
            "99    1.3\n",
            "Name: petal_width, dtype: float64, 'virginica': 100    2.5\n",
            "101    1.9\n",
            "102    2.1\n",
            "103    1.8\n",
            "104    2.2\n",
            "105    2.1\n",
            "106    1.7\n",
            "107    1.8\n",
            "108    1.8\n",
            "109    2.5\n",
            "110    2.0\n",
            "111    1.9\n",
            "112    2.1\n",
            "113    2.0\n",
            "114    2.4\n",
            "115    2.3\n",
            "116    1.8\n",
            "117    2.2\n",
            "118    2.3\n",
            "119    1.5\n",
            "120    2.3\n",
            "121    2.0\n",
            "122    2.0\n",
            "123    1.8\n",
            "124    2.1\n",
            "125    1.8\n",
            "126    1.8\n",
            "127    1.8\n",
            "128    2.1\n",
            "129    1.6\n",
            "130    1.9\n",
            "131    2.0\n",
            "132    2.2\n",
            "133    1.5\n",
            "134    1.4\n",
            "135    2.3\n",
            "136    2.4\n",
            "137    1.8\n",
            "138    1.8\n",
            "139    2.1\n",
            "140    2.4\n",
            "141    2.3\n",
            "142    1.9\n",
            "143    2.3\n",
            "144    2.5\n",
            "145    2.3\n",
            "146    1.9\n",
            "147    2.0\n",
            "148    2.3\n",
            "149    1.8\n",
            "Name: petal_width, dtype: float64}\n"
          ]
        }
      ]
    },
    {
      "cell_type": "code",
      "source": [
        "F, p = stats.f_oneway(d_data['setosa'], d_data['versicolor'], d_data['virginica'])\n",
        "print(p)"
      ],
      "metadata": {
        "colab": {
          "base_uri": "https://localhost:8080/"
        },
        "id": "E8-HZ2mcr13g",
        "outputId": "6a65d70f-054e-4c20-a18d-4516805e886f"
      },
      "execution_count": null,
      "outputs": [
        {
          "output_type": "stream",
          "name": "stdout",
          "text": [
            "4.169445839443116e-85\n"
          ]
        }
      ]
    },
    {
      "cell_type": "code",
      "source": [
        "if p<0.05:\n",
        "    print(\"reject null hypothesis\")\n",
        "else:\n",
        "    print(\"accept null hypothesis\")"
      ],
      "metadata": {
        "colab": {
          "base_uri": "https://localhost:8080/"
        },
        "id": "HORn6kvSr923",
        "outputId": "51c682a5-6f90-47d8-d697-dbba342d9fe5"
      },
      "execution_count": null,
      "outputs": [
        {
          "output_type": "stream",
          "name": "stdout",
          "text": [
            "reject null hypothesis\n"
          ]
        }
      ]
    }
  ]
}